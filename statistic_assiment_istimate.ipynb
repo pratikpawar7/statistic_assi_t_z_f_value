{
 "cells": [
  {
   "cell_type": "code",
   "execution_count": null,
   "id": "a78239e2-435a-47a9-870f-813c7fa7c8b2",
   "metadata": {},
   "outputs": [],
   "source": [
    "'''\n",
    "Q1: What is Estimation Statistics? Explain point estimate and interval estimate.\n",
    "'''\n",
    "\n",
    "Estimate Statistic : It is specified observed numerical value used to estimate unknown population parameter.\n",
    "\n",
    "point estimate : it is single numerical value used to estimate unknown population parameter.\n",
    "\n",
    "Interval estimate : range of values used to estimate unknown population parameter. \n",
    "\n"
   ]
  },
  {
   "cell_type": "code",
   "execution_count": 1,
   "id": "18337843-266e-45fc-abd8-1e4ce6459bec",
   "metadata": {},
   "outputs": [
    {
     "name": "stdout",
     "output_type": "stream",
     "text": [
      "Estimated population mean: 50.00\n",
      "95% Confidence Interval: (48.04, 51.96)\n"
     ]
    }
   ],
   "source": [
    "'''\n",
    "Q2. Write a Python function to estimate the population mean using a sample mean and standard\n",
    "deviation.\n",
    "'''\n",
    "\n",
    "from scipy.stats import norm\n",
    "import math\n",
    "\n",
    "def estimate_population_mean_with_library(sample_mean, sample_std_dev, sample_size, confidence_level=0.95):\n",
    "    \n",
    "    z_score = norm.ppf((1 + confidence_level) / 2)\n",
    "\n",
    "    # Margin of error\n",
    "    margin_of_error = z_score * (sample_std_dev / math.sqrt(sample_size))\n",
    "\n",
    "    # Calculate the lower and upper bounds of the confidence interval\n",
    "    lower_bound = sample_mean - margin_of_error\n",
    "    upper_bound = sample_mean + margin_of_error\n",
    "\n",
    "    return lower_bound, upper_bound\n",
    "\n",
    "# Example usage:\n",
    "sample_mean = 50.0\n",
    "sample_std_dev = 10.0\n",
    "sample_size = 100\n",
    "confidence_level = 0.95\n",
    "\n",
    "lower_bound, upper_bound = estimate_population_mean_with_library(sample_mean, sample_std_dev, sample_size, confidence_level)\n",
    "print(f\"Estimated population mean: {sample_mean:.2f}\")\n",
    "print(f\"95% Confidence Interval: ({lower_bound:.2f}, {upper_bound:.2f})\")\n"
   ]
  },
  {
   "cell_type": "code",
   "execution_count": null,
   "id": "8c816252-184c-4379-85c5-06e36ba8ed98",
   "metadata": {},
   "outputs": [],
   "source": [
    "  '''\n",
    "Q3: What is Hypothesis testing? Why is it used? State the importance of Hypothesis testing.\n",
    "'''\n",
    "\n",
    "Hypothesis testing : It is statistical meathod that is used to make inferences abount\n",
    "population parameter based on sample data . \n",
    "\n",
    "\n",
    "use : to make a conclusion based on given data . \n",
    "\n",
    "Importance of hypothesis testing : \n",
    "    1.Decition makeing .\n",
    "    2.infertional population parameter.\n",
    "    3.controlled experiment.\n",
    "    \n",
    "    "
   ]
  },
  {
   "cell_type": "code",
   "execution_count": null,
   "id": "d33f66a7-e183-4f6d-ab12-5457e3c4a0cb",
   "metadata": {},
   "outputs": [],
   "source": [
    "'''\n",
    "Q4. Create a hypothesis that states whether the average weight of male college students is greater than\n",
    "the average weight of female college students.\n",
    "'''\n",
    "Male_weight = average weight of male collage students \n",
    "female_weight = average weight of female collage studnets\n",
    "\n",
    "Null hypothesis : male_weight > female_weight \n",
    "alternate hypothesis : male_weight is not greater than female weight \n",
    "\n"
   ]
  },
  {
   "cell_type": "code",
   "execution_count": 1,
   "id": "a7255b83-18e8-4525-bfbf-d837d5fd1e86",
   "metadata": {},
   "outputs": [
    {
     "name": "stdout",
     "output_type": "stream",
     "text": [
      "T-statistic: 0.5742\n",
      "P-value: 1.1635\n",
      "Result: Fail to Reject Null\n"
     ]
    }
   ],
   "source": [
    "'''\n",
    "Q5. Write a Python script to conduct a hypothesis test on the difference between two population means,\n",
    "given a sample from each population.\n",
    "'''\n",
    "import scipy.stats as stats\n",
    "\n",
    "def two_sample_t_test(sample1, sample2, alpha=0.05, alternative='two-sided'):\n",
    "    \"\"\"\n",
    "    Perform a two-sample t-test for the difference between means of two independent samples.\n",
    "    \n",
    "    Parameters:\n",
    "    - sample1, sample2: the two samples to be compared\n",
    "    - alpha: significance level (default is 0.05)\n",
    "    - alternative: 'two-sided', 'less', or 'greater' (default is 'two-sided')\n",
    "    \n",
    "    Returns:\n",
    "    - t_statistic: the calculated t-statistic\n",
    "    - p_value: the p-value for the test\n",
    "    - result: a string indicating whether to reject the null hypothesis\n",
    "    \"\"\"\n",
    "    t_statistic, p_value = stats.ttest_ind(sample1, sample2, equal_var=False)\n",
    "\n",
    "    if alternative == 'two-sided':\n",
    "        p_value *= 2\n",
    "    elif alternative == 'greater':\n",
    "        p_value /= 2\n",
    "    elif alternative == 'less':\n",
    "        p_value /= 2\n",
    "\n",
    "    result = \"Reject Null\" if p_value < alpha else \"Fail to Reject Null\"\n",
    "\n",
    "    return t_statistic, p_value, result\n",
    "\n",
    "# Example usage:\n",
    "sample1 = [25, 30, 35, 40, 45]\n",
    "sample2 = [20, 28, 32, 38, 42]\n",
    "\n",
    "alpha = 0.05\n",
    "alternative = 'two-sided'\n",
    "\n",
    "t_stat, p_val, result = two_sample_t_test(sample1, sample2, alpha, alternative)\n",
    "\n",
    "print(f\"T-statistic: {t_stat:.4f}\")\n",
    "print(f\"P-value: {p_val:.4f}\")\n",
    "print(f\"Result: {result}\")\n",
    "\n"
   ]
  },
  {
   "cell_type": "code",
   "execution_count": null,
   "id": "a483dfcc-cd2e-4b4f-a61f-9faf6e4927f7",
   "metadata": {},
   "outputs": [],
   "source": [
    "'''\n",
    "Q6: What is a null and alternative hypothesis? Give some examples.\n",
    "'''\n",
    "\n",
    "Null hypothesis  : THe assumption we are beginning with . \n",
    "                ex : Average student height of collage students is 56 cm .\n",
    "Alternet hypotheis : THis is opposite of the null hypothsis \n",
    "                    also mean Alternet hypothesis is the statement that is contradict of null hypothesis.\n",
    "                Ex : Average student height of collage student is not 56 cm .\n",
    "    \n",
    "    \n"
   ]
  },
  {
   "cell_type": "code",
   "execution_count": null,
   "id": "a2e13a94-071e-4daf-99f2-c7e91ea97b60",
   "metadata": {},
   "outputs": [],
   "source": [
    "'''\n",
    "Q7: Write down the steps involved in hypothesis testing.\n",
    "'''\n",
    "\n",
    "1.NUll Hypothesis .\n",
    "2.Alternate hypothesis.\n",
    "3.choose test statistic.\n",
    "4.determine the critical value . \n",
    "5.make a decision.\n",
    "6.calculate p value . \n",
    "7. determine p value .\n",
    "8.draw the conclusion. \n",
    "\n"
   ]
  },
  {
   "cell_type": "code",
   "execution_count": null,
   "id": "dd7ab053-a6e2-4174-b9c6-e7ef154c9e61",
   "metadata": {},
   "outputs": [],
   "source": [
    "'''\n",
    "Q8. Define p-value and explain its significance in hypothesis testing.\n",
    "'''\n",
    "\n",
    "The P value is a number ,calculated from statistical analysis it defines that how likely\n",
    "you have to found a particular set of observation if the null hypothesis is True.\n",
    "The p-value (probability value) is a measure that helps assess the evidence against a null hypothesis.\n",
    "\n",
    "\n",
    "\n",
    "Significance in Hypothesis Testing:\n",
    "\n",
    "Comparing with Significance Level : \n",
    "Interpretation:\n",
    "Decision Rule:\n",
    "Level of Confidence:"
   ]
  },
  {
   "cell_type": "code",
   "execution_count": 1,
   "id": "38825a6d-972c-47f4-a538-247754d7badb",
   "metadata": {},
   "outputs": [
    {
     "data": {
      "image/png": "[encoded data removed]",
      "text/plain": [
       "<Figure size 640x480 with 1 Axes>"
      ]
     },
     "metadata": {},
     "output_type": "display_data"
    }
   ],
   "source": [
    "'''\n",
    "Q9. Generate a Student's t-distribution plot using Python's matplotlib library, with the degrees of freedom\n",
    "parameter set to 10.\n",
    "'''\n",
    "import matplotlib.pyplot as plt\n",
    "import numpy as np\n",
    "import scipy.stats as stats\n",
    "\n",
    "# Set the degrees of freedom\n",
    "degrees_of_freedom = 10\n",
    "\n",
    "# Generate values for the x-axis\n",
    "x_values = np.linspace(-4, 4, 1000)\n",
    "\n",
    "# Calculate the probability density function (pdf) for the t-distribution\n",
    "pdf_values = stats.t.pdf(x_values, df=degrees_of_freedom)\n",
    "\n",
    "# Plot the t-distribution\n",
    "plt.plot(x_values, pdf_values, label=f\"Degrees of Freedom = {degrees_of_freedom}\")\n",
    "plt.title(\"Student's t-Distribution\")\n",
    "plt.xlabel(\"x\")\n",
    "plt.ylabel(\"Probability Density Function (pdf)\")\n",
    "plt.legend()\n",
    "plt.grid(True)\n",
    "plt.show()\n"
   ]
  },
  {
   "cell_type": "code",
   "execution_count": 2,
   "id": "6d03a575-111d-45a5-a321-228d55be28b0",
   "metadata": {},
   "outputs": [
    {
     "name": "stdout",
     "output_type": "stream",
     "text": [
      "Sample 1: [23 25 28 30 32]\n",
      "Sample 2: [20 22 25 28 29]\n",
      "T-Statistic: 1.1832\n",
      "P-Value: 0.2707\n",
      "Fail to reject the null hypothesis. No significant difference in population means.\n"
     ]
    }
   ],
   "source": [
    "'''\n",
    "Q10. Write a Python program to calculate the two-sample t-test for independent samples, given two\n",
    "random samples of equal size and a null hypothesis that the population means are equal.\n",
    "'''\n",
    "\n",
    "from scipy.stats import ttest_ind\n",
    "import numpy as np\n",
    "\n",
    "def two_sample_t_test(sample1, sample2):\n",
    "  \n",
    "    t_statistic, p_value = ttest_ind(sample1, sample2)\n",
    "\n",
    "    return t_statistic, p_value\n",
    "\n",
    "# Example usage:\n",
    "# Replace these with your actual samples\n",
    "sample1 = np.array([23, 25, 28, 30, 32])\n",
    "sample2 = np.array([20, 22, 25, 28, 29])\n",
    "\n",
    "t_statistic, p_value = two_sample_t_test(sample1, sample2)\n",
    "\n",
    "print(f\"Sample 1: {sample1}\")\n",
    "print(f\"Sample 2: {sample2}\")\n",
    "print(f\"T-Statistic: {t_statistic:.4f}\")\n",
    "print(f\"P-Value: {p_value:.4f}\")\n",
    "\n",
    "# Check if the null hypothesis can be rejected\n",
    "alpha = 0.05\n",
    "if p_value < alpha:\n",
    "    print(\"Reject the null hypothesis. Population means are likely different.\")\n",
    "else:\n",
    "    print(\"Fail to reject the null hypothesis. No significant difference in population means.\")\n"
   ]
  },
  {
   "cell_type": "code",
   "execution_count": null,
   "id": "ec7702c3-ec59-4b35-8a72-5d8f58edfa07",
   "metadata": {},
   "outputs": [],
   "source": [
    "'''\n",
    "Q11: What is Student’s t distribution? When to use the t-Distribution.\n",
    "'''\n",
    "\n",
    "The Student t-distribution, often referred to simply as the t-distribution, is\n",
    "a probability distribution that arises in the context of statistical inference\n",
    "\n",
    "when we have istimate unknown population parameter but the sample size is less than 30 or  we \n",
    "do not know the sample sandard deviation then we use Student t distribution...\n"
   ]
  },
  {
   "cell_type": "code",
   "execution_count": null,
   "id": "e264d3b4-1a5c-4b19-b02c-6f0f8c39b011",
   "metadata": {},
   "outputs": [],
   "source": [
    "'''\n",
    "Q12: What is t-statistic? State the formula for t-statistic.\n",
    "'''\n",
    "\n",
    "The t-statistic is a measure that quantifies the difference between the sample mean and \n",
    "a hypothesized population mean in terms of standard errors..\n",
    "     _\n",
    "     X - u \n",
    "t = --------\n",
    "     s/root(n)\n",
    "    \n",
    "X : is the sample mean \n",
    "u : hypothesis population mean\n",
    "s : population standard deviation\n",
    "n : sample size "
   ]
  },
  {
   "cell_type": "code",
   "execution_count": 1,
   "id": "38f83b38-3b7f-4b15-bef3-e9f2ad303c99",
   "metadata": {},
   "outputs": [
    {
     "name": "stdout",
     "output_type": "stream",
     "text": [
      "95% Confidence Interval for Population Mean Revenue: ($486.14, $513.86)\n"
     ]
    }
   ],
   "source": [
    "'''\n",
    "Q13. A coffee shop owner wants to estimate the average daily revenue for their shop. They take a random\n",
    "sample of 50 days and find the sample mean revenue to be $500 with a standard deviation of $50.\n",
    "Estimate the population mean revenue with a 95% confidence interval.\n",
    "'''\n",
    "\n",
    "import math\n",
    "\n",
    "\n",
    "# Given values\n",
    "sample_mean = 500\n",
    "sample_std_dev = 50\n",
    "sample_size = 50\n",
    "confidence_level = 0.95\n",
    "\n",
    "# Critical Z-value for a 95% confidence interval\n",
    "critical_value = 1.96\n",
    "\n",
    "# Calculate the margin of error\n",
    "margin_of_error = critical_value * (sample_std_dev / math.sqrt(sample_size))\n",
    "\n",
    "# Calculate the confidence interval\n",
    "lower_bound = sample_mean - margin_of_error\n",
    "upper_bound = sample_mean + margin_of_error\n",
    "\n",
    "# Display the result\n",
    "print(f\"95% Confidence Interval for Population Mean Revenue: (${lower_bound:.2f}, ${upper_bound:.2f})\")\n"
   ]
  },
  {
   "cell_type": "code",
   "execution_count": 5,
   "id": "c572ebe5-26b9-417c-a2a2-0798d949bc5c",
   "metadata": {},
   "outputs": [
    {
     "name": "stdout",
     "output_type": "stream",
     "text": [
      "-6.666666666666667\n",
      "Reject the null hypothesis. The new drug has a significant effect on blood pressure.\n"
     ]
    }
   ],
   "source": [
    "'''\n",
    "Q14. A researcher hypothesizes that a new drug will decrease blood pressure by 10 mmHg. They conduct a\n",
    "clinical trial with 100 patients and find that the sample mean decrease in blood pressure is 8 mmHg with a\n",
    "standard deviation of 3 mmHg. Test the hypothesis with a significance level of 0.05.\n",
    "'''\n",
    "import math\n",
    "from scipy.stats import t\n",
    "\n",
    "# Given values\n",
    "sample_mean = 8\n",
    "hypothesized_mean = 10\n",
    "sample_std_dev = 3\n",
    "sample_size = 100\n",
    "significance_level = 0.05\n",
    "\n",
    "# Calculate the t-statistic\n",
    "t_statistic = (sample_mean - hypothesized_mean) / (sample_std_dev / math.sqrt(sample_size))\n",
    "print(t_statistic)\n",
    "# Degrees of freedom for a one-sample t-test\n",
    "degrees_of_freedom = sample_size - 1\n",
    "\n",
    "# Find the critical t-value for a two-tailed test and 0.05 significance level\n",
    "critical_value = t.ppf(1 - significance_level / 2, df=degrees_of_freedom)\n",
    "\n",
    "# Compare the t-statistic with the critical value\n",
    "if abs(t_statistic) > critical_value:\n",
    "    print(f\"Reject the null hypothesis. The new drug has a significant effect on blood pressure.\")\n",
    "else:\n",
    "    print(\"Fail to reject the null hypothesis. There is not enough evidence to conclude a significant effect.\")\n",
    "\n"
   ]
  },
  {
   "cell_type": "code",
   "execution_count": 12,
   "id": "52ea4562-deab-4752-a388-cecf2578433d",
   "metadata": {},
   "outputs": [
    {
     "name": "stdout",
     "output_type": "stream",
     "text": [
      "2.8\n",
      "2.4921594731575762\n",
      "fail to reject null hypothesis \n"
     ]
    }
   ],
   "source": [
    "'''\n",
    "Q15. An electronics company produces a certain type of product with a mean weight of 5 pounds and a\n",
    "standard deviation of 0.5 pounds. A random sample of 25 products is taken, and the sample mean weight\n",
    "is found to be 4.8 pounds. Test the hypothesis that the true mean weight of the products is less than 5\n",
    "pounds with a significance level of 0.01.\n",
    "'''\n",
    "\n",
    "\n",
    "#  NUll hypothesis : mean weight of product is less than 5 pounds.\n",
    "#  Alternate hypothesis : mean weight of product is not less than 5 pounds. # one tail test \n",
    "\n",
    "import math\n",
    "from  scipy.stats import t\n",
    "\n",
    "mean_weight = 5 \n",
    "std = 0.5 \n",
    "n = 25      \n",
    "sample_mean = 4.8 \n",
    "significance= 0.01\n",
    "df  = 24\n",
    "\n",
    "t_statistic = sample_mean - mean_weight/ ((std)*math.sqrt(n))\n",
    "print(t_statistic)\n",
    "\n",
    "critical_value = t.ppf(1-significance  , df)\n",
    "print(critical_value)\n",
    "\n",
    "if (t_statistic < critical_value) :\n",
    "    print(\"reject the null hypothesis\")\n",
    "else :\n",
    "    print(\"fail to reject null hypothesis \")\n"
   ]
  },
  {
   "cell_type": "code",
   "execution_count": 15,
   "id": "91de4ddb-37d2-488f-90ab-4248f61a9858",
   "metadata": {},
   "outputs": [
    {
     "name": "stdout",
     "output_type": "stream",
     "text": [
      "-20.26013260008367\n",
      "2.3824458008642413\n",
      "fail to reject null hypothesis\n"
     ]
    }
   ],
   "source": [
    "'''\n",
    "\n",
    "Q16. Two groups of students are given different study materials to prepare for a test. The first group (n1 =\n",
    "30) has a mean score of 80 with a standard deviation of 10, and the second group (n2 = 40) has a mean\n",
    "score of 75 with a standard deviation of 8. Test the hypothesis that the population means for the two\n",
    "groups are equal with a significance level of 0.01.\n",
    "'''\n",
    "\n",
    "n1 = 30 \n",
    "mean_group1  = 30 \n",
    "std1 = 10 \n",
    "df1 = 29 \n",
    "\n",
    "n2 = 40 \n",
    "mean_group2 = 75 \n",
    "std2 = 8 \n",
    "df2 = 39 \n",
    "\n",
    "significance = 0.01  \n",
    "\n",
    "#Null hypothesis  : Population mean for two group are equal .\n",
    "#alternate hypothesis  : Population mean for two group are not equal. \n",
    "\n",
    "t_statistic = (mean_group1 - mean_group2) / math.sqrt((std1**2 / n1) + (std2**2 / n2))\n",
    "\n",
    "df12 = df1 + df2 \n",
    "print(t_statistic)\n",
    "\n",
    "critical_value = t.ppf(1-significance , df12)\n",
    "\n",
    "print(critical_value)\n",
    "\n",
    "if (t_statistic > critical_value):\n",
    "    print('reject the null hypothesis ' )\n",
    "else :\n",
    "    print(\"fail to reject null hypothesis\") "
   ]
  },
  {
   "cell_type": "code",
   "execution_count": 20,
   "id": "361203f8-1180-44a2-a711-89fb92f21853",
   "metadata": {},
   "outputs": [
    {
     "name": "stdout",
     "output_type": "stream",
     "text": [
      "3.4257245770789533 4.574275422921047\n"
     ]
    }
   ],
   "source": [
    "'''\n",
    "\n",
    "Q17. A marketing company wants to estimate the average number of ads watched by viewers during a TV\n",
    "program. They take a random sample of 50 viewers and find that the sample mean is 4 with a standard\n",
    "deviation of 1.5. Estimate the population mean with a 99% confidence interval.\n",
    "'''\n",
    "\n",
    "from scipy.stats import t \n",
    "n = 50 \n",
    "sample_mean = 4 \n",
    "std = 1.5 \n",
    "significance = 0.01\n",
    "df = 49 \n",
    "\n",
    "critical_value = t.ppf(1-significance / 2 , df) \n",
    "upper_bound = sample_mean + (critical_value) * 1.5 / 7\n",
    "lower_bound = sample_mean - (critical_value) * 1.5 / 7\n",
    "print( lower_bound ,upper_bound  ) \n",
    "\n"
   ]
  },
  {
   "cell_type": "code",
   "execution_count": null,
   "id": "cefa8dae-f036-4eb1-9647-826af100a1fa",
   "metadata": {},
   "outputs": [],
   "source": []
  }
 ],
 "metadata": {
  "kernelspec": {
   "display_name": "Python 3 (ipykernel)",
   "language": "python",
   "name": "python3"
  },
  "language_info": {
   "codemirror_mode": {
    "name": "ipython",
    "version": 3
   },
   "file_extension": ".py",
   "mimetype": "text/x-python",
   "name": "python",
   "nbconvert_exporter": "python",
   "pygments_lexer": "ipython3",
   "version": "3.10.8"
  }
 },
 "nbformat": 4,
 "nbformat_minor": 5
}
